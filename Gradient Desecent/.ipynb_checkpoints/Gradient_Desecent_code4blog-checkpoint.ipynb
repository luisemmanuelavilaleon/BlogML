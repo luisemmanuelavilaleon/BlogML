{
 "cells": [
  {
   "cell_type": "code",
   "execution_count": null,
   "id": "6b639cf4-7c01-4a32-8bdd-4defd0ec35f6",
   "metadata": {},
   "outputs": [],
   "source": [
    "import numpy as np\n",
    "import matplotlib.pyplot as plt\n",
    "plt.style.use('seaborn-v0_8')"
   ]
  },
  {
   "cell_type": "code",
   "execution_count": null,
   "id": "adca2ea2-ee52-4e05-9150-bcab73ab6a31",
   "metadata": {},
   "outputs": [],
   "source": [
    "f = lambda x: x**2\n",
    "h = 0.000000001"
   ]
  },
  {
   "cell_type": "code",
   "execution_count": null,
   "id": "b47584a5-1080-4865-9aa5-3dafb0a2acf6",
   "metadata": {},
   "outputs": [],
   "source": [
    "x = np.linspace(-6,6, 100)"
   ]
  },
  {
   "cell_type": "code",
   "execution_count": null,
   "id": "8c8e4eb8-3f4b-4a8d-8aed-511ffeb7e05b",
   "metadata": {},
   "outputs": [],
   "source": [
    "fig, ax = plt.subplots(figsize = (5,7))\n",
    "ax.plot(x,f(x), color = 'teal')\n",
    "ax.axvline(c = 'black')\n",
    "ax.axhline(c = 'black')\n",
    "ax.set_xlim(-10,10)\n",
    "ax.set_ylim(-1,36)\n",
    "ax.set_xlabel('$x$')\n",
    "ax.set_ylabel('$y$')\n",
    "ax.set_title('$f(x)=x^2$')\n",
    "plt.tight_layout()\n",
    "plt.show()\n",
    "fig.savefig('x2_func.png')"
   ]
  },
  {
   "cell_type": "code",
   "execution_count": null,
   "id": "f570854e-6070-4889-b46c-079a6159b10f",
   "metadata": {},
   "outputs": [],
   "source": [
    "fix, ax = plt.subplots(figsize = (5,7))\n",
    "ax.plot(x,f(x), color = 'teal')\n",
    "ax.scatter(0, 0, marker='8', color='limegreen', zorder = 5)\n",
    "ax.annotate('Global Minimun', xy = (0, 0), xytext = (4,5), arrowprops = dict(width = 1, headwidth = 4, facecolor = 'black'))\n",
    "ax.axvline(c = 'black')\n",
    "ax.axhline(c = 'black')\n",
    "ax.set_xlim(-10,10)\n",
    "ax.set_ylim(-1,36)\n",
    "ax.set_xlabel('$x$')\n",
    "ax.set_ylabel('$y$')\n",
    "ax.set_title('$f(x)=x^2$')\n",
    "plt.tight_layout()\n",
    "plt.show()\n",
    "fig.savefig('x2_func.png')"
   ]
  },
  {
   "cell_type": "code",
   "execution_count": null,
   "id": "ecf715c4-696a-48c8-b35d-7a390d6b1d8d",
   "metadata": {},
   "outputs": [],
   "source": [
    "fix, ax = plt.subplots(figsize = (5,7))\n",
    "ax.plot(x,f(x), color = 'teal')\n",
    "ax.scatter(4, f(4), marker='8', color='limegreen', zorder = 5)\n",
    "ax.axvline(c = 'black')\n",
    "ax.axhline(c = 'black')\n",
    "ax.set_xlim(-10,10)\n",
    "ax.set_ylim(-1,36)\n",
    "ax.set_xlabel('$x$')\n",
    "ax.set_ylabel('$y$')\n",
    "ax.set_title('$f(x)=x^2$')\n",
    "plt.tight_layout()\n",
    "plt.show()\n",
    "fig.savefig('x2_func_p0.png')"
   ]
  },
  {
   "cell_type": "code",
   "execution_count": null,
   "id": "165106c8-6b7f-485c-8ada-d3d002b483f8",
   "metadata": {},
   "outputs": [],
   "source": [
    "def gradient_descent(x_i, f, epochs, eta):\n",
    "    df = lambda x: (f(x + h) - f(x)) / h \n",
    "    x_n = x_i\n",
    "    x_ = []\n",
    "    m_ = []\n",
    "    x_.append(x_n)\n",
    "    m_.append(df(x_n))\n",
    "    for i in range(epochs):\n",
    "        grad = df(x_n)\n",
    "        x_n = x_n - eta * grad\n",
    "        x_.append(x_n)\n",
    "        m_.append(df(x_n))\n",
    "    return np.array(x_), np.array(m_)"
   ]
  },
  {
   "cell_type": "code",
   "execution_count": null,
   "id": "5dcc5872-a357-417d-bf5d-e32bef14b503",
   "metadata": {},
   "outputs": [],
   "source": [
    "X, m = gradient_descent(5, f, 10, 0.8)"
   ]
  },
  {
   "cell_type": "code",
   "execution_count": null,
   "id": "0d50f72e-ca1d-44fe-978e-d747c7840e89",
   "metadata": {},
   "outputs": [],
   "source": [
    "fix, ax = plt.subplots(figsize = (5,7))\n",
    "ax.plot(x,f(x), color = 'teal')\n",
    "ax.scatter(X, f(X), marker='8', color='slateblue', zorder = 5)\n",
    "ax.axvline(c = 'black')\n",
    "ax.axhline(c = 'black')\n",
    "ax.set_xlim(-10,10)\n",
    "ax.set_ylim(-1,36)\n",
    "ax.set_xlabel('$x$')\n",
    "ax.set_ylabel('$y$')\n",
    "ax.set_title('$f(x)=x^2$')\n",
    "plt.tight_layout()\n",
    "plt.show()\n",
    "fig.savefig('x2_func_p0.png')"
   ]
  },
  {
   "cell_type": "code",
   "execution_count": null,
   "id": "58f98790-05ad-43a4-b94c-cb32dc0bd15c",
   "metadata": {},
   "outputs": [],
   "source": [
    "fig, ax = plt.subplots()\n",
    "ax.plot(range(m.size),m)\n",
    "fig.tight_layout()"
   ]
  },
  {
   "cell_type": "code",
   "execution_count": null,
   "id": "813ddfd0-d480-4f9c-96af-933525fb1487",
   "metadata": {},
   "outputs": [],
   "source": [
    "f = lambda x : np.log(1 + np.abs(x) ** (2 + np.sin(x)))\n",
    "x = np.linspace(-5,5, 100)\n",
    "X, m = gradient_descent(3, f, 10, 0.3)"
   ]
  },
  {
   "cell_type": "code",
   "execution_count": null,
   "id": "6a0dde07-e897-43cb-8b27-429078535013",
   "metadata": {},
   "outputs": [],
   "source": [
    "fig, ax = plt.subplots(figsize = (10,7))\n",
    "ax.plot(x,f(x), color = 'teal')\n",
    "ax.scatter(X, f(X), marker='8', color='slateblue', zorder = 5)\n",
    "ax.axvline(c = 'black')\n",
    "ax.axhline(c = 'black')\n",
    "ax.set_xlabel('$x$')\n",
    "ax.set_ylabel('$y$')\n",
    "ax.set_title('$f(x)=x^2$')\n",
    "ax.set_xlim(-5,5)\n",
    "plt.tight_layout()\n",
    "plt.show()\n",
    "fig.savefig('x2_func.png')"
   ]
  },
  {
   "cell_type": "code",
   "execution_count": null,
   "id": "8d9da749-b7c0-4420-a878-6e2761c7bb8a",
   "metadata": {},
   "outputs": [],
   "source": [
    "\n"
   ]
  },
  {
   "cell_type": "code",
   "execution_count": null,
   "id": "9c01af2a-3b15-4469-812f-8d093fc975e4",
   "metadata": {},
   "outputs": [],
   "source": []
  }
 ],
 "metadata": {
  "kernelspec": {
   "display_name": "Python 3 (ipykernel)",
   "language": "python",
   "name": "python3"
  },
  "language_info": {
   "codemirror_mode": {
    "name": "ipython",
    "version": 3
   },
   "file_extension": ".py",
   "mimetype": "text/x-python",
   "name": "python",
   "nbconvert_exporter": "python",
   "pygments_lexer": "ipython3",
   "version": "3.10.0"
  }
 },
 "nbformat": 4,
 "nbformat_minor": 5
}
